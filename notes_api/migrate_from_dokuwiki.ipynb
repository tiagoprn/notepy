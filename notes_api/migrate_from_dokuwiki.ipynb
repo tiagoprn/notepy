{
 "cells": [
  {
   "cell_type": "code",
   "execution_count": null,
   "metadata": {},
   "outputs": [],
   "source": [
    "# How to clean the cell output: <Esc> <R> <Y>\n",
    "import traceback\n",
    "\n",
    "from datetime import datetime\n",
    "from pathlib import Path\n",
    "from uuid import uuid4\n",
    "\n",
    "current_path = Path('./tmp/input/dokuwiki/history')\n",
    "files = [file for file in current_path.iterdir()]\n",
    "sorted_files = sorted(files)\n",
    "\n",
    "\n",
    "for number, file in enumerate(sorted_files):\n",
    "    full_name = str(file).split('/')[-1]\n",
    "\n",
    "    title = full_name.split('.')[0]\n",
    "\n",
    "    print(f'Processing file {title} - {number+1}/{len(sorted_files)}')\n",
    "    \n",
    "    contents = ''\n",
    "    with open(file, 'r') as current_file:\n",
    "        contents = '\\n'.join(current_file.readlines())\n",
    "    \n",
    "    unix_timestamp = full_name.split('.')[-2]\n",
    "    datetime_timestamp = datetime.utcfromtimestamp(int(unix_timestamp))\n",
    "    isoformat_timestamp = datetime_timestamp.isoformat()\n",
    "    \n",
    "    try:   \n",
    "        if Note.objects.filter(name=title).count() == 0:\n",
    "            print(f'Note {title} not found, it will be CREATED.')\n",
    "            note = Note()\n",
    "            note.owner = User.objects.first()\n",
    "            note.created = datetime_timestamp\n",
    "            note.name = title\n",
    "        else:\n",
    "            note = Note.objects.get(name=title)\n",
    "            \n",
    "        note.content = contents\n",
    "        note.updated = datetime_timestamp\n",
    "\n",
    "        note.save()\n",
    "    except Exception as ex:\n",
    "        print(f'Exception: {ex}, traceback: {traceback.exc_info()}')\n",
    "        break "
   ]
  }
 ],
 "metadata": {
  "kernelspec": {
   "display_name": "Django Shell-Plus",
   "language": "python",
   "name": "django_extensions"
  },
  "language_info": {
   "codemirror_mode": {
    "name": "ipython",
    "version": 3
   },
   "file_extension": ".py",
   "mimetype": "text/x-python",
   "name": "python",
   "nbconvert_exporter": "python",
   "pygments_lexer": "ipython3",
   "version": "3.6.5"
  }
 },
 "nbformat": 4,
 "nbformat_minor": 2
}
