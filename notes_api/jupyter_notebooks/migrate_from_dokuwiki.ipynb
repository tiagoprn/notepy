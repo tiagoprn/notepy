{
 "cells": [
  {
   "cell_type": "code",
   "execution_count": null,
   "metadata": {},
   "outputs": [],
   "source": [
    "# How to clean the cell output: <Esc> <R> <Y>\n",
    "\n",
    "from datetime import datetime\n",
    "from pathlib import Path\n",
    "\n",
    "current_path = Path('./input/dokuwiki/history')\n",
    "files = [file for file in current_path.iterdir()]\n",
    "sorted_files = sorted(files)\n",
    "\n",
    "titles = []\n",
    "for file in sorted_files:\n",
    "    full_name = str(file).split('/')[-1]\n",
    "\n",
    "    title = full_name.split('.')[0]\n",
    "    \n",
    "    unix_timestamp = full_name.split('.')[1]\n",
    "    \n",
    "    datetime_timestamp = datetime.utcfromtimestamp(int(unix_timestamp))\n",
    "    isoformat_timestamp = datetime_timestamp.isoformat()\n",
    "    \n",
    "    print(f'TITLE: {title}, UNIX_TIMESTAMP: {unix_timestamp}, ISOFORMAT_TIMESTAMP: {isoformat_timestamp}')\n",
    "    \n",
    "    if not title in titles:\n",
    "        titles.append(title)\n",
    "        # TODO: here I must create a new note, with the original created_at = datetime_timestamp  AND updated_at = datetime_timestamp\n",
    "    else: \n",
    "        # TODO: here I must update an existing note, with updated_at = datetime_timestamp\n",
    "        pass\n",
    "    \n",
    "    contents = ''\n",
    "    with open(file, 'r') as current_file:\n",
    "        contents = '\\n'.join(current_file.readlines())\n",
    "        \n",
    "    print(contents)    \n",
    "       \n",
    "    if not title in titles:\n",
    "        titles.append(title)\n",
    "        # TODO: here I must create a new note, with the original created_at = datetime_timestamp  AND updated_at = datetime_timestamp\n",
    "    else: \n",
    "        # TODO: here I must update an existing note, with updated_at = datetime_timestamp\n",
    "        pass\n",
    "\n",
    "    \n"
   ]
  },
  {
   "cell_type": "code",
   "execution_count": null,
   "metadata": {},
   "outputs": [],
   "source": []
  }
 ],
 "metadata": {
  "kernelspec": {
   "display_name": "Django Shell-Plus",
   "language": "python",
   "name": "django_extensions"
  },
  "language_info": {
   "codemirror_mode": {
    "name": "ipython",
    "version": 3
   },
   "file_extension": ".py",
   "mimetype": "text/x-python",
   "name": "python",
   "nbconvert_exporter": "python",
   "pygments_lexer": "ipython3",
   "version": "3.6.5"
  }
 },
 "nbformat": 4,
 "nbformat_minor": 2
}
